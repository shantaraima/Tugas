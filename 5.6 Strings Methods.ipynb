{
 "cells": [
  {
   "cell_type": "code",
   "execution_count": 4,
   "id": "ecfc0703",
   "metadata": {},
   "outputs": [],
   "source": [
    "judul = 'apa itu diabetes?'"
   ]
  },
  {
   "cell_type": "code",
   "execution_count": 5,
   "id": "9a309279",
   "metadata": {},
   "outputs": [
    {
     "name": "stdout",
     "output_type": "stream",
     "text": [
      "17\n"
     ]
    }
   ],
   "source": [
    "print(len(judul))"
   ]
  },
  {
   "cell_type": "code",
   "execution_count": 6,
   "id": "0f9ef1f9",
   "metadata": {},
   "outputs": [
    {
     "data": {
      "text/plain": [
       "'APA ITU DIABETES?'"
      ]
     },
     "execution_count": 6,
     "metadata": {},
     "output_type": "execute_result"
    }
   ],
   "source": [
    "judul.upper()"
   ]
  },
  {
   "cell_type": "code",
   "execution_count": 7,
   "id": "1b61e65b",
   "metadata": {},
   "outputs": [
    {
     "data": {
      "text/plain": [
       "'apa itu diabetes?'"
      ]
     },
     "execution_count": 7,
     "metadata": {},
     "output_type": "execute_result"
    }
   ],
   "source": [
    "judul.lower()"
   ]
  },
  {
   "cell_type": "code",
   "execution_count": 8,
   "id": "eaf66f1d",
   "metadata": {},
   "outputs": [
    {
     "data": {
      "text/plain": [
       "4"
      ]
     },
     "execution_count": 8,
     "metadata": {},
     "output_type": "execute_result"
    }
   ],
   "source": [
    "judul.find('itu')"
   ]
  },
  {
   "cell_type": "code",
   "execution_count": 9,
   "id": "c1f10cc1",
   "metadata": {},
   "outputs": [
    {
     "data": {
      "text/plain": [
       "0"
      ]
     },
     "execution_count": 9,
     "metadata": {},
     "output_type": "execute_result"
    }
   ],
   "source": [
    "judul.find('apa')"
   ]
  },
  {
   "cell_type": "code",
   "execution_count": 10,
   "id": "8403e538",
   "metadata": {},
   "outputs": [
    {
     "data": {
      "text/plain": [
       "'bagaimana itu diabetes?'"
      ]
     },
     "execution_count": 10,
     "metadata": {},
     "output_type": "execute_result"
    }
   ],
   "source": [
    "judul.replace('apa', 'bagaimana')"
   ]
  },
  {
   "cell_type": "code",
   "execution_count": 11,
   "id": "241f6af3",
   "metadata": {},
   "outputs": [
    {
     "data": {
      "text/plain": [
       "'apa itu diabetes?'"
      ]
     },
     "execution_count": 11,
     "metadata": {},
     "output_type": "execute_result"
    }
   ],
   "source": [
    "judul.replace('Apa', 'bagaimana')"
   ]
  },
  {
   "cell_type": "code",
   "execution_count": 12,
   "id": "c9e95f7a",
   "metadata": {},
   "outputs": [
    {
     "name": "stdout",
     "output_type": "stream",
     "text": [
      "True\n"
     ]
    }
   ],
   "source": [
    "print('apa'in judul)"
   ]
  },
  {
   "cell_type": "code",
   "execution_count": 13,
   "id": "ed30852f",
   "metadata": {},
   "outputs": [
    {
     "name": "stdout",
     "output_type": "stream",
     "text": [
      "False\n"
     ]
    }
   ],
   "source": [
    "print('Apa' in judul)"
   ]
  },
  {
   "cell_type": "code",
   "execution_count": null,
   "id": "504ad4ca",
   "metadata": {},
   "outputs": [],
   "source": []
  }
 ],
 "metadata": {
  "kernelspec": {
   "display_name": "Python 3 (ipykernel)",
   "language": "python",
   "name": "python3"
  },
  "language_info": {
   "codemirror_mode": {
    "name": "ipython",
    "version": 3
   },
   "file_extension": ".py",
   "mimetype": "text/x-python",
   "name": "python",
   "nbconvert_exporter": "python",
   "pygments_lexer": "ipython3",
   "version": "3.9.7"
  }
 },
 "nbformat": 4,
 "nbformat_minor": 5
}
