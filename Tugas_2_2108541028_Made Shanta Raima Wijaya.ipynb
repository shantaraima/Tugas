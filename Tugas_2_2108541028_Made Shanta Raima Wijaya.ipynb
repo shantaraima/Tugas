{
 "cells": [
  {
   "cell_type": "markdown",
   "id": "9714b364",
   "metadata": {},
   "source": [
    "# 5.12 List di Python"
   ]
  },
  {
   "cell_type": "code",
   "execution_count": 1,
   "id": "5337ecfc",
   "metadata": {},
   "outputs": [
    {
     "name": "stdout",
     "output_type": "stream",
     "text": [
      "['mengkudu', 'mangga', 'leci', 'klengkeng']\n"
     ]
    }
   ],
   "source": [
    "buah = ['mengkudu', 'mangga', 'leci', 'klengkeng']\n",
    "print(buah)"
   ]
  },
  {
   "cell_type": "code",
   "execution_count": 2,
   "id": "23261aec",
   "metadata": {},
   "outputs": [
    {
     "name": "stdout",
     "output_type": "stream",
     "text": [
      "mengkudu\n"
     ]
    }
   ],
   "source": [
    "print(buah[0])"
   ]
  },
  {
   "cell_type": "code",
   "execution_count": 3,
   "id": "6ae4a30d",
   "metadata": {},
   "outputs": [
    {
     "name": "stdout",
     "output_type": "stream",
     "text": [
      "leci\n"
     ]
    }
   ],
   "source": [
    "print(buah[2])"
   ]
  },
  {
   "cell_type": "code",
   "execution_count": 4,
   "id": "43ffbdfc",
   "metadata": {},
   "outputs": [
    {
     "name": "stdout",
     "output_type": "stream",
     "text": [
      "klengkeng\n"
     ]
    }
   ],
   "source": [
    "print(buah[-1])"
   ]
  },
  {
   "cell_type": "code",
   "execution_count": 5,
   "id": "037fbab8",
   "metadata": {},
   "outputs": [
    {
     "name": "stdout",
     "output_type": "stream",
     "text": [
      "leci\n"
     ]
    }
   ],
   "source": [
    "print(buah[-2])"
   ]
  },
  {
   "cell_type": "code",
   "execution_count": 7,
   "id": "c10b7649",
   "metadata": {},
   "outputs": [
    {
     "name": "stdout",
     "output_type": "stream",
     "text": [
      "['pisang', 'mangga', 'leci', 'klengkeng']\n"
     ]
    }
   ],
   "source": [
    "buah[0] = 'pisang'\n",
    "print(buah)"
   ]
  },
  {
   "cell_type": "code",
   "execution_count": 8,
   "id": "6995c4e8",
   "metadata": {},
   "outputs": [
    {
     "name": "stdout",
     "output_type": "stream",
     "text": [
      "['pisang', 'mangga', 'leci']\n"
     ]
    }
   ],
   "source": [
    "print(buah[0:3])"
   ]
  },
  {
   "cell_type": "code",
   "execution_count": 9,
   "id": "148736b2",
   "metadata": {},
   "outputs": [
    {
     "name": "stdout",
     "output_type": "stream",
     "text": [
      "['pisang', 'mangga', 'leci', 'klengkeng']\n"
     ]
    }
   ],
   "source": [
    "# tidak merubah list\n",
    "print (buah)"
   ]
  },
  {
   "cell_type": "markdown",
   "id": "8a149ccc",
   "metadata": {},
   "source": [
    "# 5.13 Metoda List"
   ]
  },
  {
   "cell_type": "code",
   "execution_count": 10,
   "id": "b65e793e",
   "metadata": {},
   "outputs": [
    {
     "name": "stdout",
     "output_type": "stream",
     "text": [
      "['Made', 'Shanta', 'Raima', 'Wijaya']\n"
     ]
    }
   ],
   "source": [
    "nama = ['Made', 'Shanta', 'Raima' ]\n",
    "nama.append('Wijaya')\n",
    "print(nama)"
   ]
  },
  {
   "cell_type": "code",
   "execution_count": 11,
   "id": "6ceabfd4",
   "metadata": {},
   "outputs": [
    {
     "name": "stdout",
     "output_type": "stream",
     "text": [
      "['Agung', 'Made', 'Shanta', 'Raima', 'Wijaya']\n"
     ]
    }
   ],
   "source": [
    "nama.insert(0,'Agung')\n",
    "print(nama)"
   ]
  },
  {
   "cell_type": "code",
   "execution_count": 12,
   "id": "81fef0e0",
   "metadata": {},
   "outputs": [
    {
     "name": "stdout",
     "output_type": "stream",
     "text": [
      "['Agung', 'Made', 'Raima', 'Wijaya']\n"
     ]
    }
   ],
   "source": [
    "nama.remove('Shanta')\n",
    "print(nama)"
   ]
  },
  {
   "cell_type": "code",
   "execution_count": 14,
   "id": "a6acbbc5",
   "metadata": {},
   "outputs": [
    {
     "name": "stdout",
     "output_type": "stream",
     "text": [
      "False\n"
     ]
    }
   ],
   "source": [
    "print('Shanta' in nama)"
   ]
  },
  {
   "cell_type": "code",
   "execution_count": 15,
   "id": "4bbc85b3",
   "metadata": {},
   "outputs": [
    {
     "name": "stdout",
     "output_type": "stream",
     "text": [
      "True\n"
     ]
    }
   ],
   "source": [
    "print('Raima' in nama)"
   ]
  },
  {
   "cell_type": "code",
   "execution_count": 16,
   "id": "0800fea8",
   "metadata": {},
   "outputs": [
    {
     "name": "stdout",
     "output_type": "stream",
     "text": [
      "4\n"
     ]
    }
   ],
   "source": [
    "print(len(nama))"
   ]
  },
  {
   "cell_type": "markdown",
   "id": "3d7822e5",
   "metadata": {},
   "source": [
    "# 5.14 For Loop"
   ]
  },
  {
   "cell_type": "code",
   "execution_count": 17,
   "id": "81fcb8de",
   "metadata": {},
   "outputs": [
    {
     "name": "stdout",
     "output_type": "stream",
     "text": [
      "mengkudu\n",
      "mangga\n",
      "leci\n",
      "klengkeng\n"
     ]
    }
   ],
   "source": [
    "buah = ['mengkudu', 'mangga', 'leci', 'klengkeng']\n",
    "for jenis in buah:\n",
    "    print(jenis)"
   ]
  },
  {
   "cell_type": "code",
   "execution_count": 24,
   "id": "8a1c35fb",
   "metadata": {},
   "outputs": [
    {
     "name": "stdout",
     "output_type": "stream",
     "text": [
      "mengkudu\n",
      "leci\n"
     ]
    }
   ],
   "source": [
    "i = 0\n",
    "while i < len(buah):\n",
    "    print(buah[i])\n",
    "    i+=2"
   ]
  },
  {
   "cell_type": "markdown",
   "id": "bd20d121",
   "metadata": {},
   "source": [
    "# 5.15 Fungsi Range"
   ]
  },
  {
   "cell_type": "code",
   "execution_count": 29,
   "id": "f9e56be9",
   "metadata": {},
   "outputs": [
    {
     "name": "stdout",
     "output_type": "stream",
     "text": [
      "range(0, 13)\n"
     ]
    }
   ],
   "source": [
    "angka = range(13)\n",
    "print(angka)"
   ]
  },
  {
   "cell_type": "code",
   "execution_count": 30,
   "id": "fb1411df",
   "metadata": {},
   "outputs": [
    {
     "name": "stdout",
     "output_type": "stream",
     "text": [
      "0\n",
      "1\n",
      "2\n",
      "3\n",
      "4\n",
      "5\n",
      "6\n",
      "7\n",
      "8\n",
      "9\n",
      "10\n",
      "11\n",
      "12\n"
     ]
    }
   ],
   "source": [
    "for isi in angka:\n",
    "    print(isi)"
   ]
  },
  {
   "cell_type": "code",
   "execution_count": 34,
   "id": "c32be027",
   "metadata": {},
   "outputs": [
    {
     "name": "stdout",
     "output_type": "stream",
     "text": [
      "4\n",
      "5\n",
      "6\n",
      "7\n",
      "8\n"
     ]
    }
   ],
   "source": [
    "for isi in range(4,9):\n",
    "    print(isi)"
   ]
  },
  {
   "cell_type": "code",
   "execution_count": 35,
   "id": "ae5fea5b",
   "metadata": {},
   "outputs": [
    {
     "name": "stdout",
     "output_type": "stream",
     "text": [
      "1\n",
      "5\n",
      "9\n"
     ]
    }
   ],
   "source": [
    "for isi in range(1,13,4):\n",
    "    print(isi)"
   ]
  },
  {
   "cell_type": "markdown",
   "id": "f2c8035b",
   "metadata": {},
   "source": [
    "# Latihan:\n",
    "# 1. Buatlah program untuk mencari nilai terbesar di dalam suatu list."
   ]
  },
  {
   "cell_type": "code",
   "execution_count": 39,
   "id": "616b8c4d",
   "metadata": {},
   "outputs": [
    {
     "name": "stdout",
     "output_type": "stream",
     "text": [
      "20\n"
     ]
    }
   ],
   "source": [
    "data = [20,4,5,8,5,4,10]\n",
    "terbesar = data[0]\n",
    "for i in range(len(data)):\n",
    "    if data[i] > terbesar:\n",
    "        terbesar = data[i]\n",
    "print(terbesar)"
   ]
  },
  {
   "cell_type": "code",
   "execution_count": 40,
   "id": "f1cb3a15",
   "metadata": {},
   "outputs": [
    {
     "name": "stdout",
     "output_type": "stream",
     "text": [
      "20\n"
     ]
    }
   ],
   "source": [
    "data = [20,4,5,8,5,4,10]\n",
    "terbesar = data[0]\n",
    "for angka in data:\n",
    "    if angka > terbesar:\n",
    "        terbesar = angka\n",
    "print(terbesar)"
   ]
  },
  {
   "cell_type": "markdown",
   "id": "7802ff10",
   "metadata": {},
   "source": [
    "# 2. Buatlah program untuk membuat anggota list menjadi unik dengan kata lain ada anggota list yang kembar.\n",
    "Cara nya adalah dengan membandingkan setiap anggota list. Jika ternyata\n",
    "ada anggota list yang kembar, anggota tersebut langsung dihapus dari\n",
    "dalam list."
   ]
  },
  {
   "cell_type": "code",
   "execution_count": 52,
   "id": "fc03a045",
   "metadata": {},
   "outputs": [
    {
     "name": "stdout",
     "output_type": "stream",
     "text": [
      "[3, 4, 6, 7, 5, 9, 8, 10, 11]\n"
     ]
    }
   ],
   "source": [
    "angka = [3,4,6,7,4,3,5,9,8,10,11]\n",
    "angka_unik = []\n",
    "for anggota in angka:\n",
    "    if anggota not in angka_unik:\n",
    "        angka_unik.append(anggota)\n",
    "print(angka_unik)"
   ]
  },
  {
   "cell_type": "markdown",
   "id": "cb697c59",
   "metadata": {},
   "source": [
    "# 5.16 List 2 Dimensi"
   ]
  },
  {
   "cell_type": "code",
   "execution_count": 44,
   "id": "42f2942c",
   "metadata": {},
   "outputs": [
    {
     "name": "stdout",
     "output_type": "stream",
     "text": [
      "[[2, 3, 4, 5], [7, 8, 9, 10], [13, 14, 15, 16], [18, 19, 20, 21]]\n"
     ]
    }
   ],
   "source": [
    "matriks = [\n",
    "    [2,3,4,5],\n",
    "    [7,8,9,10],\n",
    "    [13,14,15,16],\n",
    "    [18,19,20,21]\n",
    "]\n",
    "print(matriks)"
   ]
  },
  {
   "cell_type": "code",
   "execution_count": 47,
   "id": "5a45d5ea",
   "metadata": {},
   "outputs": [
    {
     "data": {
      "text/plain": [
       "[7, 8, 9, 10]"
      ]
     },
     "execution_count": 47,
     "metadata": {},
     "output_type": "execute_result"
    }
   ],
   "source": [
    "matriks[1]"
   ]
  },
  {
   "cell_type": "code",
   "execution_count": 55,
   "id": "440b68e4",
   "metadata": {},
   "outputs": [
    {
     "data": {
      "text/plain": [
       "4"
      ]
     },
     "execution_count": 55,
     "metadata": {},
     "output_type": "execute_result"
    }
   ],
   "source": [
    "matriks[0][2]"
   ]
  },
  {
   "cell_type": "code",
   "execution_count": 64,
   "id": "4943e1ec",
   "metadata": {},
   "outputs": [
    {
     "name": "stdout",
     "output_type": "stream",
     "text": [
      "200\n"
     ]
    }
   ],
   "source": [
    "matriks[2][1]=200\n",
    "print(matriks[2][1])"
   ]
  },
  {
   "cell_type": "code",
   "execution_count": 65,
   "id": "76d60f36",
   "metadata": {},
   "outputs": [
    {
     "data": {
      "text/plain": [
       "[[2, 3, 4, 5], [7, 8, 9, 10], [13, 200, 20, 2], [18, 19, 20, 21]]"
      ]
     },
     "execution_count": 65,
     "metadata": {},
     "output_type": "execute_result"
    }
   ],
   "source": [
    "matriks"
   ]
  },
  {
   "cell_type": "code",
   "execution_count": 66,
   "id": "92af48dc",
   "metadata": {},
   "outputs": [
    {
     "name": "stdout",
     "output_type": "stream",
     "text": [
      "[2, 3, 4, 5]\n",
      "2\n",
      "3\n",
      "4\n",
      "5\n",
      "[7, 8, 9, 10]\n",
      "7\n",
      "8\n",
      "9\n",
      "10\n",
      "[13, 200, 20, 2]\n",
      "13\n",
      "200\n",
      "20\n",
      "2\n",
      "[18, 19, 20, 21]\n",
      "18\n",
      "19\n",
      "20\n",
      "21\n"
     ]
    }
   ],
   "source": [
    "for baris in matriks:\n",
    "    print(baris)\n",
    "    for kolom in baris:\n",
    "        print(kolom)"
   ]
  },
  {
   "cell_type": "markdown",
   "id": "2040a58d",
   "metadata": {},
   "source": [
    "# 5.17 Tuples"
   ]
  },
  {
   "cell_type": "code",
   "execution_count": 67,
   "id": "d8ba6f8f",
   "metadata": {},
   "outputs": [],
   "source": [
    "angka = (12,13,16,19,20,20)"
   ]
  },
  {
   "cell_type": "code",
   "execution_count": 68,
   "id": "fab3c1f8",
   "metadata": {},
   "outputs": [
    {
     "name": "stdout",
     "output_type": "stream",
     "text": [
      "13\n"
     ]
    }
   ],
   "source": [
    "print(angka[1])"
   ]
  },
  {
   "cell_type": "code",
   "execution_count": 69,
   "id": "e3efa2ba",
   "metadata": {},
   "outputs": [
    {
     "name": "stdout",
     "output_type": "stream",
     "text": [
      "(12, 13, 16, 19)\n"
     ]
    }
   ],
   "source": [
    "print(angka[0:4])"
   ]
  },
  {
   "cell_type": "code",
   "execution_count": 71,
   "id": "03ece43d",
   "metadata": {},
   "outputs": [
    {
     "name": "stdout",
     "output_type": "stream",
     "text": [
      "12\n",
      "13\n",
      "16\n",
      "19\n"
     ]
    }
   ],
   "source": [
    "for isi in angka[0:4]:\n",
    "    print(isi)"
   ]
  },
  {
   "cell_type": "code",
   "execution_count": null,
   "id": "a279aa5b",
   "metadata": {},
   "outputs": [],
   "source": [
    "angka [1] = 20"
   ]
  },
  {
   "cell_type": "code",
   "execution_count": null,
   "id": "330445cb",
   "metadata": {},
   "outputs": [],
   "source": [
    "angka.append(20)"
   ]
  },
  {
   "cell_type": "code",
   "execution_count": null,
   "id": "00e16b66",
   "metadata": {},
   "outputs": [],
   "source": [
    "angka.remove(20)"
   ]
  },
  {
   "cell_type": "code",
   "execution_count": 74,
   "id": "f855ebd0",
   "metadata": {},
   "outputs": [
    {
     "data": {
      "text/plain": [
       "1"
      ]
     },
     "execution_count": 74,
     "metadata": {},
     "output_type": "execute_result"
    }
   ],
   "source": [
    "angka.count(19)"
   ]
  },
  {
   "cell_type": "code",
   "execution_count": 79,
   "id": "d89320db",
   "metadata": {},
   "outputs": [
    {
     "data": {
      "text/plain": [
       "4"
      ]
     },
     "execution_count": 79,
     "metadata": {},
     "output_type": "execute_result"
    }
   ],
   "source": [
    "angka.index(20)"
   ]
  },
  {
   "cell_type": "markdown",
   "id": "1086fc9a",
   "metadata": {},
   "source": [
    "# 5.18 Dictionaries"
   ]
  },
  {
   "cell_type": "code",
   "execution_count": null,
   "id": "f6dc9d66",
   "metadata": {},
   "outputs": [],
   "source": [
    "data_orang = {\n",
    "    \"nama\" : \"Putu Jaya\",\n",
    "    \"umur\" : 24,\n",
    "    \"apakah_sudah_bekerja\" : False\n",
    "}"
   ]
  },
  {
   "cell_type": "code",
   "execution_count": null,
   "id": "a26ff5f4",
   "metadata": {},
   "outputs": [],
   "source": [
    "print(data_orang['nama'])"
   ]
  },
  {
   "cell_type": "code",
   "execution_count": null,
   "id": "bd13d0f0",
   "metadata": {},
   "outputs": [],
   "source": [
    "print(data_orang['Nama'])"
   ]
  },
  {
   "cell_type": "code",
   "execution_count": null,
   "id": "38fa78d1",
   "metadata": {},
   "outputs": [],
   "source": [
    "print(data_orang.get('nama'))"
   ]
  },
  {
   "cell_type": "code",
   "execution_count": null,
   "id": "d7206fc9",
   "metadata": {},
   "outputs": [],
   "source": [
    "print(data_orang.get('Nama'))"
   ]
  },
  {
   "cell_type": "code",
   "execution_count": null,
   "id": "79cf78b3",
   "metadata": {},
   "outputs": [],
   "source": [
    "print(data_orang.get('tanggal_lahir'))"
   ]
  },
  {
   "cell_type": "code",
   "execution_count": null,
   "id": "2327cdd6",
   "metadata": {},
   "outputs": [],
   "source": [
    "print(data_orang.get('tanggal_lahir', '29-2-1998'))"
   ]
  },
  {
   "cell_type": "code",
   "execution_count": null,
   "id": "37eb12db",
   "metadata": {},
   "outputs": [],
   "source": [
    "print(data_orang)"
   ]
  },
  {
   "cell_type": "code",
   "execution_count": null,
   "id": "c9232919",
   "metadata": {},
   "outputs": [],
   "source": [
    "print(data_orang[\"tanggal_lahir\"])"
   ]
  },
  {
   "cell_type": "code",
   "execution_count": null,
   "id": "69a1b678",
   "metadata": {},
   "outputs": [],
   "source": [
    "data_orang['HP'] = '082359121886'"
   ]
  },
  {
   "cell_type": "code",
   "execution_count": null,
   "id": "bf3dc626",
   "metadata": {},
   "outputs": [],
   "source": [
    "print(data_orang[\"HP\"])"
   ]
  },
  {
   "cell_type": "code",
   "execution_count": null,
   "id": "7fae4cda",
   "metadata": {},
   "outputs": [],
   "source": [
    "print(data_orang)"
   ]
  },
  {
   "cell_type": "markdown",
   "id": "4a2a2583",
   "metadata": {},
   "source": [
    "## Latihan :\n",
    "Buatlah program untuk merubah nomor HP yang tadinya berupa angka menjadi sebutan bilangan tersebut. Misalnya angka 0812 akan menjadi nol delapan satu dua."
   ]
  },
  {
   "cell_type": "code",
   "execution_count": 86,
   "id": "cb836cde",
   "metadata": {},
   "outputs": [
    {
     "ename": "SyntaxError",
     "evalue": "invalid syntax (Temp/ipykernel_2040/2578780488.py, line 1)",
     "output_type": "error",
     "traceback": [
      "\u001b[1;36m  File \u001b[1;32m\"C:\\Users\\62878\\AppData\\Local\\Temp/ipykernel_2040/2578780488.py\"\u001b[1;36m, line \u001b[1;32m1\u001b[0m\n\u001b[1;33m    <module>\u001b[0m\n\u001b[1;37m    ^\u001b[0m\n\u001b[1;31mSyntaxError\u001b[0m\u001b[1;31m:\u001b[0m invalid syntax\n"
     ]
    }
   ],
   "source": [
    "angka = {\n",
    "    \"0\" : \"nol\",\n",
    "    \"1\" : \"satu\",\n",
    "    \"2\" : \"dua\",\n",
    "    \"3\" : \"tiga\",\n",
    "    \"4\" : \"empat\",\n",
    "    \"5\" : \"lima\",\n",
    "    \"6\" : \"enam\",\n",
    "    \"7\" : \"tujuh\",\n",
    "    \"8\" : \"delapan\",\n",
    "    \"9\" : \"sembilan\"\n",
    "}"
   ]
  },
  {
   "cell_type": "code",
   "execution_count": 89,
   "id": "656aa4d3",
   "metadata": {},
   "outputs": [
    {
     "name": "stdout",
     "output_type": "stream",
     "text": [
      "Masukkan nomor HP kamu 082359121886\n",
      "nol delapan dua tiga lima sembilan satu dua satu delapan delapan enam \n"
     ]
    }
   ],
   "source": [
    "angka = {\n",
    "    \"0\" : \"nol\",\n",
    "    \"1\" : \"satu\",\n",
    "    \"2\" : \"dua\",\n",
    "    \"3\" : \"tiga\",\n",
    "    \"4\" : \"empat\",\n",
    "    \"5\" : \"lima\",\n",
    "    \"6\" : \"enam\",\n",
    "    \"7\" : \"tujuh\",\n",
    "    \"8\" : \"delapan\",\n",
    "    \"9\" : \"sembilan\"\n",
    "}\n",
    "nomor_HP = input(\"Masukkan nomor HP kamu \")\n",
    "nomor_angka = \"\"\n",
    "for isi in nomor_HP:\n",
    "    nomor_angka += angka.get(isi) + \" \"\n",
    "print(nomor_angka)"
   ]
  },
  {
   "cell_type": "markdown",
   "id": "fb9869ec",
   "metadata": {},
   "source": [
    "# 5.19 Fungsi dalam Python"
   ]
  },
  {
   "cell_type": "code",
   "execution_count": null,
   "id": "0d9c75fe",
   "metadata": {},
   "outputs": [],
   "source": [
    "def full_nama(first_name,Last_name):\n",
    "    print(f'Nama lengkapnya adalah {nama_depan}{nama_belakang}')"
   ]
  },
  {
   "cell_type": "code",
   "execution_count": 95,
   "id": "bf19f365",
   "metadata": {},
   "outputs": [
    {
     "name": "stdout",
     "output_type": "stream",
     "text": [
      "Nama depan kamu adalah Made Shanta \n",
      "Nama belakang kamu adalah Raima Wijaya\n",
      "Nama lengkapnya adalah Made Shanta Raima Wijaya\n"
     ]
    }
   ],
   "source": [
    "nama_depan = input('Nama depan kamu adalah ')\n",
    "nama_belakang = input('Nama belakang kamu adalah ')\n",
    "print(f'Nama lengkapnya adalah {nama_depan}{nama_belakang}')"
   ]
  },
  {
   "cell_type": "markdown",
   "id": "846941b2",
   "metadata": {},
   "source": [
    "## 5.19.1 Tugas Fungsi pada Python\n",
    "Ada dua jenis tugas fungsi pada Python yaitu:\n",
    "\n",
    " Menjalankan perintah.\n",
    "\n",
    " Menampilkan hasil perhitungan."
   ]
  },
  {
   "cell_type": "code",
   "execution_count": null,
   "id": "88e15026",
   "metadata": {},
   "outputs": [],
   "source": [
    "def waktu_sampai(jarak,kecepatan):\n",
    "    waktu = jarak/kecepatan\n",
    "    print(waktu)"
   ]
  },
  {
   "cell_type": "code",
   "execution_count": null,
   "id": "f9b35abe",
   "metadata": {},
   "outputs": [],
   "source": [
    "def waktu_stempuh(jarak,kecepatan):\n",
    "    waktu = jarak/kecepatan\n",
    "    return waktu"
   ]
  },
  {
   "cell_type": "code",
   "execution_count": null,
   "id": "0ffbdef1",
   "metadata": {},
   "outputs": [],
   "source": [
    "waktu_sampai (50,30)"
   ]
  },
  {
   "cell_type": "code",
   "execution_count": null,
   "id": "71b04fa3",
   "metadata": {},
   "outputs": [],
   "source": [
    "waktu_tempuh (50,30)"
   ]
  },
  {
   "cell_type": "code",
   "execution_count": null,
   "id": "2459ef95",
   "metadata": {},
   "outputs": [],
   "source": [
    "a = waktu_sampai (50,30)\n",
    "print(a)"
   ]
  },
  {
   "cell_type": "code",
   "execution_count": null,
   "id": "9bffd523",
   "metadata": {},
   "outputs": [],
   "source": [
    "b = waktu_tempuh (50,30)\n",
    "print(b)"
   ]
  },
  {
   "cell_type": "markdown",
   "id": "58683a13",
   "metadata": {},
   "source": [
    "## Latihan:\n",
    "Buatlah program yang menggunakan fungsi Python untuk menghitung luas segitiga, lingkaran, persegi dan persegi panjang. Selain itu berikan\n",
    "peringatan bagi bidang lain yang tidak termasuk perhitungan."
   ]
  },
  {
   "cell_type": "code",
   "execution_count": null,
   "id": "0d5bc633",
   "metadata": {},
   "outputs": [],
   "source": [
    "import numpy as np"
   ]
  },
  {
   "cell_type": "code",
   "execution_count": null,
   "id": "faa9f0b8",
   "metadata": {},
   "outputs": [],
   "source": [
    "def luas_segitiga(alas,tinggi):\n",
    "    luas = (1/2)*alas*tinggi\n",
    "    return luas\n",
    "def luas_lingkaran(jari_jari):\n",
    "    luas = np.pi*(jari_jari**2)\n",
    "    return luas\n",
    "def luas_persegi(sisi):\n",
    "    luas = sisi**2\n",
    "    return luas\n",
    "def luas_persegi_panjang(panjang,lebar):\n",
    "    luas = panjang*lebar\n",
    "    return luas"
   ]
  },
  {
   "cell_type": "code",
   "execution_count": null,
   "id": "3e88eedf",
   "metadata": {},
   "outputs": [],
   "source": [
    "jenis_bidang = input('Ketik jenis bidangnya ')\n",
    "if jenis_bidang.upper() == 'SEGITIGA':\n",
    "    alas = float(input('Berapa panjang alasnya? '))\n",
    "    tinggi = float(input('Berapa tingginya? '))\n",
    "    luas = luas_segitiga(alas,tinggi)\n",
    "    print(f'Luas {jenis_bidang} adalah {luas}')\n",
    "elif jenis_bidang.upper() == 'LINGKARAN':\n",
    "    jari_jari = float(input('Berapa panjang jari-jarinya? '))\n",
    "    luas = luas_lingkaran(jari_jari)\n",
    "    print(f'Luas {jenis_bidang} adalah {luas}')\n",
    "elif jenis_bidang.upper() == 'PERSEGI':\n",
    "    sisi = float(input('Berapa panjang sisinya? '))\n",
    "    luas = luas_persegi(sisi)\n",
    "    print(f'Luas {jenis_bidang} adalah {luas}')\n",
    "elif jenis_bidang.upper() == 'PERSEGI PANJANG':\n",
    "    panjang = float(input('Berapa panjangnya? '))\n",
    "    lebar = float(input('Berapa lebarnya? '))\n",
    "    luas = luas_persegi_panjang(panjang,lebar)\n",
    "    print(f'Luas {jenis_bidang} adalah {luas}')\n",
    "else:\n",
    "    print(f'maaf bidang {jenis_bidang} yang kamu masukkan tidak ada.' )\n",
    "    print('pilihannya hanya ada SEGITIGA, LINGKARAN, PERSEGI, dan PERSEGI PANJANG. ')\n",
    "    print('terimakasih')\n",
    "    "
   ]
  }
 ],
 "metadata": {
  "kernelspec": {
   "display_name": "Python 3 (ipykernel)",
   "language": "python",
   "name": "python3"
  },
  "language_info": {
   "codemirror_mode": {
    "name": "ipython",
    "version": 3
   },
   "file_extension": ".py",
   "mimetype": "text/x-python",
   "name": "python",
   "nbconvert_exporter": "python",
   "pygments_lexer": "ipython3",
   "version": "3.9.7"
  }
 },
 "nbformat": 4,
 "nbformat_minor": 5
}
