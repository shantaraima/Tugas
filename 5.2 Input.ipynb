{
 "cells": [
  {
   "cell_type": "code",
   "execution_count": 1,
   "id": "20dd34e7",
   "metadata": {},
   "outputs": [
    {
     "name": "stdout",
     "output_type": "stream",
     "text": [
      "siapakah nama anda? Shanta\n",
      "apakah kegiatan anda sekarang, Shanta? Kuliah\n",
      "semangat Kuliah nya yaa, Shanta!\n"
     ]
    }
   ],
   "source": [
    "nama = input(\"siapakah nama anda? \")\n",
    "kegiatan = input('apakah kegiatan anda sekarang, ' + nama + \"? \")\n",
    "print(\"semangat \" + kegiatan + \" nya yaa, \" + nama + \"!\")"
   ]
  },
  {
   "cell_type": "code",
   "execution_count": null,
   "id": "b9a8abd5",
   "metadata": {},
   "outputs": [],
   "source": []
  }
 ],
 "metadata": {
  "kernelspec": {
   "display_name": "Python 3 (ipykernel)",
   "language": "python",
   "name": "python3"
  },
  "language_info": {
   "codemirror_mode": {
    "name": "ipython",
    "version": 3
   },
   "file_extension": ".py",
   "mimetype": "text/x-python",
   "name": "python",
   "nbconvert_exporter": "python",
   "pygments_lexer": "ipython3",
   "version": "3.9.7"
  }
 },
 "nbformat": 4,
 "nbformat_minor": 5
}
