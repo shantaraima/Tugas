{
 "cells": [
  {
   "cell_type": "code",
   "execution_count": 1,
   "id": "49f8e14e",
   "metadata": {},
   "outputs": [
    {
     "name": "stdout",
     "output_type": "stream",
     "text": [
      "Berapakah jumlah uang di dompet anda? 2000\n",
      "Berapakah jumlah uang anda di Bank? 100000\n",
      "Total uang anda adalah Rp 2000100000\n"
     ]
    }
   ],
   "source": [
    "uang_di_dompet = input(\"Berapakah jumlah uang di dompet anda? \")\n",
    "uang_di_bank = input(\"Berapakah jumlah uang anda di Bank? \")\n",
    "print(\"Total uang anda adalah Rp \" + uang_di_dompet +uang_di_bank)"
   ]
  },
  {
   "cell_type": "code",
   "execution_count": 2,
   "id": "d0fa29f7",
   "metadata": {},
   "outputs": [
    {
     "name": "stdout",
     "output_type": "stream",
     "text": [
      "Berapakah jumlah uang di dompet anda? 2000\n",
      "Berapakah jumlah uang anda di Bank? 100000\n",
      "Total uang anda adalah Rp 102000\n"
     ]
    }
   ],
   "source": [
    "uang_di_dompet = input(\"Berapakah jumlah uang di dompet anda? \")\n",
    "uang_di_bank = input(\"Berapakah jumlah uang anda di Bank? \")\n",
    "total_uang = int(uang_di_dompet) + int(uang_di_bank)\n",
    "print(\"Total uang anda adalah Rp \" + str(total_uang))"
   ]
  },
  {
   "cell_type": "code",
   "execution_count": null,
   "id": "ab6c7172",
   "metadata": {},
   "outputs": [],
   "source": [
    "cara melihat tipe data :"
   ]
  },
  {
   "cell_type": "code",
   "execution_count": 3,
   "id": "a9322460",
   "metadata": {},
   "outputs": [
    {
     "data": {
      "text/plain": [
       "str"
      ]
     },
     "execution_count": 3,
     "metadata": {},
     "output_type": "execute_result"
    }
   ],
   "source": [
    "type(uang_di_dompet)"
   ]
  },
  {
   "cell_type": "code",
   "execution_count": 4,
   "id": "2ddc3f80",
   "metadata": {},
   "outputs": [
    {
     "data": {
      "text/plain": [
       "str"
      ]
     },
     "execution_count": 4,
     "metadata": {},
     "output_type": "execute_result"
    }
   ],
   "source": [
    "type(uang_di_bank)"
   ]
  },
  {
   "cell_type": "code",
   "execution_count": 5,
   "id": "5a08681a",
   "metadata": {},
   "outputs": [
    {
     "data": {
      "text/plain": [
       "int"
      ]
     },
     "execution_count": 5,
     "metadata": {},
     "output_type": "execute_result"
    }
   ],
   "source": [
    "type(total_uang)"
   ]
  },
  {
   "cell_type": "code",
   "execution_count": null,
   "id": "2228daf3",
   "metadata": {},
   "outputs": [],
   "source": [
    "Buatlah program penjumlahan dua bilangan dengan menggunakan \n",
    "perintah input dan print"
   ]
  },
  {
   "cell_type": "code",
   "execution_count": 6,
   "id": "ad491d89",
   "metadata": {},
   "outputs": [
    {
     "name": "stdout",
     "output_type": "stream",
     "text": [
      "masukkan bilangan pertama: 3\n",
      "masukkan bilangan kedua: 3\n",
      "jumlah kedua bilangan adalah: 6.0\n"
     ]
    }
   ],
   "source": [
    "bilangan_pertama = input('masukkan bilangan pertama: ')\n",
    "bilangan_kedua = input('masukkan bilangan kedua: ')\n",
    "jumlah = float(bilangan_pertama) + float(bilangan_kedua)\n",
    "print('jumlah kedua bilangan adalah: ' + str(jumlah))"
   ]
  },
  {
   "cell_type": "code",
   "execution_count": null,
   "id": "d4ccbe8f",
   "metadata": {},
   "outputs": [],
   "source": []
  }
 ],
 "metadata": {
  "kernelspec": {
   "display_name": "Python 3 (ipykernel)",
   "language": "python",
   "name": "python3"
  },
  "language_info": {
   "codemirror_mode": {
    "name": "ipython",
    "version": 3
   },
   "file_extension": ".py",
   "mimetype": "text/x-python",
   "name": "python",
   "nbconvert_exporter": "python",
   "pygments_lexer": "ipython3",
   "version": "3.9.7"
  }
 },
 "nbformat": 4,
 "nbformat_minor": 5
}
