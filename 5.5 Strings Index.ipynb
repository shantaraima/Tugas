{
 "cells": [
  {
   "cell_type": "code",
   "execution_count": 1,
   "id": "c000b1f5",
   "metadata": {},
   "outputs": [],
   "source": [
    "kelas = 'ini kelas matematika'"
   ]
  },
  {
   "cell_type": "code",
   "execution_count": 2,
   "id": "081f7946",
   "metadata": {},
   "outputs": [
    {
     "name": "stdout",
     "output_type": "stream",
     "text": [
      "ini\n"
     ]
    }
   ],
   "source": [
    "print(kelas[0:3])"
   ]
  },
  {
   "cell_type": "code",
   "execution_count": 3,
   "id": "405407ce",
   "metadata": {},
   "outputs": [
    {
     "name": "stdout",
     "output_type": "stream",
     "text": [
      "ini kelas matematik\n"
     ]
    }
   ],
   "source": [
    "print(kelas[0:-1])"
   ]
  },
  {
   "cell_type": "code",
   "execution_count": 4,
   "id": "917c8046",
   "metadata": {},
   "outputs": [
    {
     "name": "stdout",
     "output_type": "stream",
     "text": [
      "elas matematik\n"
     ]
    }
   ],
   "source": [
    "print(kelas[5:-1])"
   ]
  },
  {
   "cell_type": "code",
   "execution_count": 5,
   "id": "bf3cf050",
   "metadata": {},
   "outputs": [
    {
     "name": "stdout",
     "output_type": "stream",
     "text": [
      "iesami\n"
     ]
    }
   ],
   "source": [
    "print(kelas[2:-1:3])"
   ]
  },
  {
   "cell_type": "code",
   "execution_count": 6,
   "id": "e83ede9c",
   "metadata": {},
   "outputs": [
    {
     "name": "stdout",
     "output_type": "stream",
     "text": [
      "ini kelas matemat\n"
     ]
    }
   ],
   "source": [
    "print(kelas[:-3])"
   ]
  },
  {
   "cell_type": "code",
   "execution_count": 7,
   "id": "19a61d4c",
   "metadata": {},
   "outputs": [
    {
     "name": "stdout",
     "output_type": "stream",
     "text": [
      "ni kelas matematika\n"
     ]
    }
   ],
   "source": [
    "print(kelas[1:])"
   ]
  },
  {
   "cell_type": "code",
   "execution_count": 8,
   "id": "8bcb34d6",
   "metadata": {},
   "outputs": [
    {
     "name": "stdout",
     "output_type": "stream",
     "text": [
      "ini kelas matematika\n"
     ]
    }
   ],
   "source": [
    "print(kelas[:])"
   ]
  },
  {
   "cell_type": "code",
   "execution_count": null,
   "id": "acd161d9",
   "metadata": {},
   "outputs": [],
   "source": []
  }
 ],
 "metadata": {
  "kernelspec": {
   "display_name": "Python 3 (ipykernel)",
   "language": "python",
   "name": "python3"
  },
  "language_info": {
   "codemirror_mode": {
    "name": "ipython",
    "version": 3
   },
   "file_extension": ".py",
   "mimetype": "text/x-python",
   "name": "python",
   "nbconvert_exporter": "python",
   "pygments_lexer": "ipython3",
   "version": "3.9.7"
  }
 },
 "nbformat": 4,
 "nbformat_minor": 5
}
