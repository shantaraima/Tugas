{
 "cells": [
  {
   "cell_type": "code",
   "execution_count": 1,
   "id": "c4b40581",
   "metadata": {},
   "outputs": [
    {
     "name": "stdout",
     "output_type": "stream",
     "text": [
      "Ini kelas Algoritma\n"
     ]
    }
   ],
   "source": [
    "print ('Ini kelas Algoritma')"
   ]
  },
  {
   "cell_type": "code",
   "execution_count": 2,
   "id": "2acefff0",
   "metadata": {},
   "outputs": [
    {
     "name": "stdout",
     "output_type": "stream",
     "text": [
      "Ini kelas Algotirma\n"
     ]
    }
   ],
   "source": [
    "print (\"Ini kelas Algotirma\")"
   ]
  },
  {
   "cell_type": "code",
   "execution_count": 3,
   "id": "cbbabe5d",
   "metadata": {},
   "outputs": [
    {
     "name": "stdout",
     "output_type": "stream",
     "text": [
      "i don't understant what are you saying\n"
     ]
    }
   ],
   "source": [
    "print (\"i don't understant what are you saying\")"
   ]
  },
  {
   "cell_type": "code",
   "execution_count": null,
   "id": "9621ce0b",
   "metadata": {},
   "outputs": [],
   "source": [
    "print('i don't understant what are you saying')"
   ]
  },
  {
   "cell_type": "code",
   "execution_count": 4,
   "id": "cba28921",
   "metadata": {},
   "outputs": [
    {
     "name": "stdout",
     "output_type": "stream",
     "text": [
      "He is such a \"GENIUS\"\n"
     ]
    }
   ],
   "source": [
    "print('He is such a \"GENIUS\"')"
   ]
  },
  {
   "cell_type": "code",
   "execution_count": 5,
   "id": "8afdb5d4",
   "metadata": {},
   "outputs": [
    {
     "name": "stdout",
     "output_type": "stream",
     "text": [
      "28\n",
      "5000\n",
      "140000\n"
     ]
    }
   ],
   "source": [
    "Mahasiswa = 28\n",
    "Uang_di_dompet = 5000\n",
    "print(Mahasiswa)\n",
    "print(Uang_di_dompet)\n",
    "print(Mahasiswa*Uang_di_dompet)"
   ]
  },
  {
   "cell_type": "code",
   "execution_count": 6,
   "id": "cad7fb28",
   "metadata": {},
   "outputs": [
    {
     "name": "stdout",
     "output_type": "stream",
     "text": [
      "Tono Pramono\n"
     ]
    }
   ],
   "source": [
    "nama_depan = 'Tono'\n",
    "nama_tengah =' '\n",
    "nama_belakang = 'Pramono'\n",
    "print(nama_depan + nama_tengah + nama_belakang)"
   ]
  },
  {
   "cell_type": "code",
   "execution_count": null,
   "id": "88c88532",
   "metadata": {},
   "outputs": [],
   "source": []
  }
 ],
 "metadata": {
  "kernelspec": {
   "display_name": "Python 3 (ipykernel)",
   "language": "python",
   "name": "python3"
  },
  "language_info": {
   "codemirror_mode": {
    "name": "ipython",
    "version": 3
   },
   "file_extension": ".py",
   "mimetype": "text/x-python",
   "name": "python",
   "nbconvert_exporter": "python",
   "pygments_lexer": "ipython3",
   "version": "3.9.7"
  }
 },
 "nbformat": 4,
 "nbformat_minor": 5
}
