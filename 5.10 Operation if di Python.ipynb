{
 "cells": [
  {
   "cell_type": "code",
   "execution_count": 3,
   "id": "9665ae35",
   "metadata": {},
   "outputs": [
    {
     "name": "stdout",
     "output_type": "stream",
     "text": [
      "nilai kamu adalah 70\n",
      "kamu mendapatkan nilai B\n",
      "keep the spirit, improve your performance again\n"
     ]
    }
   ],
   "source": [
    "nilai = float(input('nilai kamu adalah '))\n",
    "if nilai >=90 :\n",
    "    print('kamu mendapat nilai A')\n",
    "    print('nice work, congrats!!')\n",
    "if nilai <80 and nilai >=70 :\n",
    "    print('kamu mendapatkan nilai B')\n",
    "    print('keep the spirit, improve your performance again')\n",
    "if nilai >=60 and nilai <70 :\n",
    "    print('kamu mendapatkan nilai C')\n",
    "    print('next time should be better')\n",
    "if nilai >=50 and nilai <60 :\n",
    "    print('kamu mendapatkan nilai D')\n",
    "    print('try again next year')\n",
    "if nilai <50 :\n",
    "    print('kamu mendapatkan nilai E')\n",
    "    print('see you next year')"
   ]
  },
  {
   "cell_type": "code",
   "execution_count": null,
   "id": "5332a22c",
   "metadata": {},
   "outputs": [],
   "source": [
    "Buatlah Program yang merubah tinggi badan seseorang \n",
    "dari cm ke inci atau sebaliknya dari inci ke cm."
   ]
  },
  {
   "cell_type": "code",
   "execution_count": 4,
   "id": "238894cd",
   "metadata": {},
   "outputs": [
    {
     "name": "stdout",
     "output_type": "stream",
     "text": [
      "berapakah tinggi kamu? 180\n",
      "tingginya dalam cm atau inci? cm\n",
      "tinggi kamu adalah 70.86618 inci\n"
     ]
    }
   ],
   "source": [
    "tinggi = float(input('berapakah tinggi kamu? '))\n",
    "cm_atau_inci = input('tingginya dalam cm atau inci? ')\n",
    "\n",
    "if cm_atau_inci.upper() == 'CM':\n",
    "    tinggi = tinggi*0.393701\n",
    "    print('tinggi kamu adalah ' + str(tinggi) + ' inci')\n",
    "elif cm_atau_inci.upper() == 'INCI':\n",
    "    tinggi = tinggi*0.393701\n",
    "    print(f'tinggi kamu adalah {tinggi} cm')"
   ]
  },
  {
   "cell_type": "code",
   "execution_count": null,
   "id": "6fce0395",
   "metadata": {},
   "outputs": [],
   "source": []
  }
 ],
 "metadata": {
  "kernelspec": {
   "display_name": "Python 3 (ipykernel)",
   "language": "python",
   "name": "python3"
  },
  "language_info": {
   "codemirror_mode": {
    "name": "ipython",
    "version": 3
   },
   "file_extension": ".py",
   "mimetype": "text/x-python",
   "name": "python",
   "nbconvert_exporter": "python",
   "pygments_lexer": "ipython3",
   "version": "3.9.7"
  }
 },
 "nbformat": 4,
 "nbformat_minor": 5
}
