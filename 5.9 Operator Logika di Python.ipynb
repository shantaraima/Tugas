{
 "cells": [
  {
   "cell_type": "code",
   "execution_count": 3,
   "id": "d7303807",
   "metadata": {},
   "outputs": [
    {
     "name": "stdout",
     "output_type": "stream",
     "text": [
      "True\n"
     ]
    }
   ],
   "source": [
    "buah_sirsak = 5\n",
    "buah_kedondong = 10\n",
    "print(buah_sirsak > 4 and buah_kedondong < 11)"
   ]
  },
  {
   "cell_type": "code",
   "execution_count": 5,
   "id": "0c5d8328",
   "metadata": {},
   "outputs": [
    {
     "name": "stdout",
     "output_type": "stream",
     "text": [
      "True\n"
     ]
    }
   ],
   "source": [
    "print(buah_sirsak < 4 or buah_kedondong < 11)"
   ]
  },
  {
   "cell_type": "code",
   "execution_count": 6,
   "id": "c390f823",
   "metadata": {},
   "outputs": [
    {
     "name": "stdout",
     "output_type": "stream",
     "text": [
      "False\n"
     ]
    }
   ],
   "source": [
    "print(buah_sirsak < 4 or buah_kedondong > 11)"
   ]
  },
  {
   "cell_type": "code",
   "execution_count": 7,
   "id": "1f0d8746",
   "metadata": {},
   "outputs": [
    {
     "name": "stdout",
     "output_type": "stream",
     "text": [
      "True\n"
     ]
    }
   ],
   "source": [
    "print(not(buah_sirsak < 4 or buah_kedondong > 11))"
   ]
  },
  {
   "cell_type": "code",
   "execution_count": null,
   "id": "128c39f4",
   "metadata": {},
   "outputs": [],
   "source": []
  }
 ],
 "metadata": {
  "kernelspec": {
   "display_name": "Python 3 (ipykernel)",
   "language": "python",
   "name": "python3"
  },
  "language_info": {
   "codemirror_mode": {
    "name": "ipython",
    "version": 3
   },
   "file_extension": ".py",
   "mimetype": "text/x-python",
   "name": "python",
   "nbconvert_exporter": "python",
   "pygments_lexer": "ipython3",
   "version": "3.9.7"
  }
 },
 "nbformat": 4,
 "nbformat_minor": 5
}
