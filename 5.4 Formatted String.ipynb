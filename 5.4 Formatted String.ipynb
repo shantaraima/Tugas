{
 "cells": [
  {
   "cell_type": "code",
   "execution_count": 1,
   "id": "246fd153",
   "metadata": {},
   "outputs": [
    {
     "name": "stdout",
     "output_type": "stream",
     "text": [
      "Antonio adalah seorang mahasiswa di Universitas Udayana.\n"
     ]
    }
   ],
   "source": [
    "nama = 'Antonio'\n",
    "pekerjaan = 'mahasiswa'\n",
    "institusi = 'Universitas Udayana'\n",
    "print(nama + ' adalah seorang ' + pekerjaan + ' di ' + institusi + '.')"
   ]
  },
  {
   "cell_type": "code",
   "execution_count": 3,
   "id": "ace873c7",
   "metadata": {},
   "outputs": [
    {
     "name": "stdout",
     "output_type": "stream",
     "text": [
      "Antonio adalah seorang mahasiswa di Universitas Udayana.\n"
     ]
    }
   ],
   "source": [
    "print(f'{nama} adalah seorang {pekerjaan} di {institusi}.')"
   ]
  },
  {
   "cell_type": "code",
   "execution_count": 4,
   "id": "cee2624a",
   "metadata": {},
   "outputs": [
    {
     "name": "stdout",
     "output_type": "stream",
     "text": [
      "Antonio adalah seorang mahasiswa di Universitas Udayana.\n"
     ]
    }
   ],
   "source": [
    "print(f\"{nama} adalah seorang {pekerjaan} di {institusi}.\")"
   ]
  },
  {
   "cell_type": "code",
   "execution_count": null,
   "id": "c58c6d0f",
   "metadata": {},
   "outputs": [],
   "source": []
  }
 ],
 "metadata": {
  "kernelspec": {
   "display_name": "Python 3 (ipykernel)",
   "language": "python",
   "name": "python3"
  },
  "language_info": {
   "codemirror_mode": {
    "name": "ipython",
    "version": 3
   },
   "file_extension": ".py",
   "mimetype": "text/x-python",
   "name": "python",
   "nbconvert_exporter": "python",
   "pygments_lexer": "ipython3",
   "version": "3.9.7"
  }
 },
 "nbformat": 4,
 "nbformat_minor": 5
}
