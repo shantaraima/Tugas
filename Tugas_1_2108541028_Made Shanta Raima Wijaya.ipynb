{
 "cells": [
  {
   "cell_type": "code",
   "execution_count": null,
   "id": "2ab0c70d",
   "metadata": {},
   "outputs": [],
   "source": [
    "5.1 Print"
   ]
  },
  {
   "cell_type": "code",
   "execution_count": 1,
   "id": "7d862d6d",
   "metadata": {},
   "outputs": [
    {
     "name": "stdout",
     "output_type": "stream",
     "text": [
      "Ini kelas Algoritma\n"
     ]
    }
   ],
   "source": [
    "print ('Ini kelas Algoritma')"
   ]
  },
  {
   "cell_type": "code",
   "execution_count": 2,
   "id": "76cab1e8",
   "metadata": {},
   "outputs": [
    {
     "name": "stdout",
     "output_type": "stream",
     "text": [
      "Ini kelas Algotirma\n"
     ]
    }
   ],
   "source": [
    "print (\"Ini kelas Algotirma\")"
   ]
  },
  {
   "cell_type": "code",
   "execution_count": 3,
   "id": "9ccf66b9",
   "metadata": {},
   "outputs": [
    {
     "name": "stdout",
     "output_type": "stream",
     "text": [
      "i don't understant what are you saying\n"
     ]
    }
   ],
   "source": [
    "print (\"i don't understant what are you saying\")"
   ]
  },
  {
   "cell_type": "code",
   "execution_count": 4,
   "id": "07265f09",
   "metadata": {},
   "outputs": [
    {
     "ename": "SyntaxError",
     "evalue": "invalid syntax (Temp/ipykernel_23364/2830219799.py, line 1)",
     "output_type": "error",
     "traceback": [
      "\u001b[1;36m  File \u001b[1;32m\"C:\\Users\\62878\\AppData\\Local\\Temp/ipykernel_23364/2830219799.py\"\u001b[1;36m, line \u001b[1;32m1\u001b[0m\n\u001b[1;33m    print('i don't understant what are you saying')\u001b[0m\n\u001b[1;37m                 ^\u001b[0m\n\u001b[1;31mSyntaxError\u001b[0m\u001b[1;31m:\u001b[0m invalid syntax\n"
     ]
    }
   ],
   "source": [
    "print('i don't understant what are you saying')"
   ]
  },
  {
   "cell_type": "code",
   "execution_count": 5,
   "id": "e076eafe",
   "metadata": {},
   "outputs": [
    {
     "name": "stdout",
     "output_type": "stream",
     "text": [
      "He is such a \"GENIUS\"\n"
     ]
    }
   ],
   "source": [
    "print('He is such a \"GENIUS\"')"
   ]
  },
  {
   "cell_type": "code",
   "execution_count": 6,
   "id": "7c1da7b0",
   "metadata": {},
   "outputs": [
    {
     "name": "stdout",
     "output_type": "stream",
     "text": [
      "28\n",
      "5000\n",
      "140000\n"
     ]
    }
   ],
   "source": [
    "Mahasiswa = 28\n",
    "Uang_di_dompet = 5000\n",
    "print(Mahasiswa)\n",
    "print(Uang_di_dompet)\n",
    "print(Mahasiswa*Uang_di_dompet)"
   ]
  },
  {
   "cell_type": "code",
   "execution_count": 7,
   "id": "5970b4fe",
   "metadata": {},
   "outputs": [
    {
     "name": "stdout",
     "output_type": "stream",
     "text": [
      "Tono Pramono\n"
     ]
    }
   ],
   "source": [
    "nama_depan = 'Tono'\n",
    "nama_tengah =' '\n",
    "nama_belakang = 'Pramono'\n",
    "print(nama_depan + nama_tengah + nama_belakang)"
   ]
  },
  {
   "cell_type": "code",
   "execution_count": null,
   "id": "f4b2bfca",
   "metadata": {},
   "outputs": [],
   "source": []
  },
  {
   "cell_type": "code",
   "execution_count": null,
   "id": "cc2826c2",
   "metadata": {},
   "outputs": [],
   "source": [
    "5.2 Input"
   ]
  },
  {
   "cell_type": "code",
   "execution_count": 8,
   "id": "b3740c15",
   "metadata": {},
   "outputs": [
    {
     "name": "stdout",
     "output_type": "stream",
     "text": [
      "siapakah nama anda? Shanta\n",
      "apakah kegiatan anda sekarang, Shanta? Kuliah\n",
      "semangat Kuliah nya yaa, Shanta!\n"
     ]
    }
   ],
   "source": [
    "nama = input(\"siapakah nama anda? \")\n",
    "kegiatan = input('apakah kegiatan anda sekarang, ' + nama + \"? \")\n",
    "print(\"semangat \" + kegiatan + \" nya yaa, \" + nama + \"!\")"
   ]
  },
  {
   "cell_type": "code",
   "execution_count": null,
   "id": "01ae9c2c",
   "metadata": {},
   "outputs": [],
   "source": []
  },
  {
   "cell_type": "code",
   "execution_count": null,
   "id": "3246c44a",
   "metadata": {},
   "outputs": [],
   "source": [
    "5.3 Tipe Data pada Python"
   ]
  },
  {
   "cell_type": "code",
   "execution_count": 9,
   "id": "ddd2b3ae",
   "metadata": {},
   "outputs": [
    {
     "name": "stdout",
     "output_type": "stream",
     "text": [
      "Berapakah jumlah uang di dompet anda? 2000\n",
      "Berapakah jumlah uang anda di Bank? 100000\n",
      "Total uang anda adalah Rp 2000100000\n"
     ]
    }
   ],
   "source": [
    "uang_di_dompet = input(\"Berapakah jumlah uang di dompet anda? \")\n",
    "uang_di_bank = input(\"Berapakah jumlah uang anda di Bank? \")\n",
    "print(\"Total uang anda adalah Rp \" + uang_di_dompet +uang_di_bank)"
   ]
  },
  {
   "cell_type": "code",
   "execution_count": 10,
   "id": "6661f7e9",
   "metadata": {},
   "outputs": [
    {
     "name": "stdout",
     "output_type": "stream",
     "text": [
      "Berapakah jumlah uang di dompet anda? 2000\n",
      "Berapakah jumlah uang anda di Bank? 100000\n",
      "Total uang anda adalah Rp 102000\n"
     ]
    }
   ],
   "source": [
    "uang_di_dompet = input(\"Berapakah jumlah uang di dompet anda? \")\n",
    "uang_di_bank = input(\"Berapakah jumlah uang anda di Bank? \")\n",
    "total_uang = int(uang_di_dompet) + int(uang_di_bank)\n",
    "print(\"Total uang anda adalah Rp \" + str(total_uang))"
   ]
  },
  {
   "cell_type": "code",
   "execution_count": null,
   "id": "4c193825",
   "metadata": {},
   "outputs": [],
   "source": [
    "cara melihat tipe data :"
   ]
  },
  {
   "cell_type": "code",
   "execution_count": 11,
   "id": "5b52b2d2",
   "metadata": {},
   "outputs": [
    {
     "data": {
      "text/plain": [
       "str"
      ]
     },
     "execution_count": 11,
     "metadata": {},
     "output_type": "execute_result"
    }
   ],
   "source": [
    "type(uang_di_dompet)"
   ]
  },
  {
   "cell_type": "code",
   "execution_count": 12,
   "id": "63c2b12d",
   "metadata": {},
   "outputs": [
    {
     "data": {
      "text/plain": [
       "str"
      ]
     },
     "execution_count": 12,
     "metadata": {},
     "output_type": "execute_result"
    }
   ],
   "source": [
    "type(uang_di_bank)"
   ]
  },
  {
   "cell_type": "code",
   "execution_count": 13,
   "id": "d94e6026",
   "metadata": {},
   "outputs": [
    {
     "data": {
      "text/plain": [
       "int"
      ]
     },
     "execution_count": 13,
     "metadata": {},
     "output_type": "execute_result"
    }
   ],
   "source": [
    "type(total_uang)"
   ]
  },
  {
   "cell_type": "code",
   "execution_count": null,
   "id": "4055039c",
   "metadata": {},
   "outputs": [],
   "source": [
    "Buatlah program penjumlahan dua bilangan dengan menggunakan \n",
    "perintah input dan print"
   ]
  },
  {
   "cell_type": "code",
   "execution_count": 14,
   "id": "20f4c26c",
   "metadata": {},
   "outputs": [
    {
     "name": "stdout",
     "output_type": "stream",
     "text": [
      "masukkan bilangan pertama: 3\n",
      "masukkan bilangan kedua: 4\n",
      "jumlah kedua bilangan adalah: 7.0\n"
     ]
    }
   ],
   "source": [
    "bilangan_pertama = input('masukkan bilangan pertama: ')\n",
    "bilangan_kedua = input('masukkan bilangan kedua: ')\n",
    "jumlah = float(bilangan_pertama) + float(bilangan_kedua)\n",
    "print('jumlah kedua bilangan adalah: ' + str(jumlah))"
   ]
  },
  {
   "cell_type": "code",
   "execution_count": null,
   "id": "7d846654",
   "metadata": {},
   "outputs": [],
   "source": []
  },
  {
   "cell_type": "code",
   "execution_count": null,
   "id": "4851fe9b",
   "metadata": {},
   "outputs": [],
   "source": [
    "5.4 Formatted String"
   ]
  },
  {
   "cell_type": "code",
   "execution_count": 15,
   "id": "9044fdd1",
   "metadata": {},
   "outputs": [
    {
     "name": "stdout",
     "output_type": "stream",
     "text": [
      "Antonio adalah seorang mahasiswa di Universitas Udayana.\n"
     ]
    }
   ],
   "source": [
    "nama = 'Antonio'\n",
    "pekerjaan = 'mahasiswa'\n",
    "institusi = 'Universitas Udayana'\n",
    "print(nama + ' adalah seorang ' + pekerjaan + ' di ' + institusi + '.')"
   ]
  },
  {
   "cell_type": "code",
   "execution_count": 16,
   "id": "a409eecf",
   "metadata": {},
   "outputs": [
    {
     "name": "stdout",
     "output_type": "stream",
     "text": [
      "Antonio adalah seorang mahasiswa di Universitas Udayana.\n"
     ]
    }
   ],
   "source": [
    "print(f'{nama} adalah seorang {pekerjaan} di {institusi}.')"
   ]
  },
  {
   "cell_type": "code",
   "execution_count": 17,
   "id": "5e4eeb2a",
   "metadata": {},
   "outputs": [
    {
     "name": "stdout",
     "output_type": "stream",
     "text": [
      "Antonio adalah seorang mahasiswa di Universitas Udayana.\n"
     ]
    }
   ],
   "source": [
    "print(f\"{nama} adalah seorang {pekerjaan} di {institusi}.\")"
   ]
  },
  {
   "cell_type": "code",
   "execution_count": null,
   "id": "4d5c0792",
   "metadata": {},
   "outputs": [],
   "source": []
  },
  {
   "cell_type": "code",
   "execution_count": null,
   "id": "057c7c2b",
   "metadata": {},
   "outputs": [],
   "source": [
    "5.5 Strings Index"
   ]
  },
  {
   "cell_type": "code",
   "execution_count": 18,
   "id": "de20896c",
   "metadata": {},
   "outputs": [],
   "source": [
    "kelas = 'ini kelas matematika'"
   ]
  },
  {
   "cell_type": "code",
   "execution_count": 19,
   "id": "d536d1f4",
   "metadata": {},
   "outputs": [
    {
     "name": "stdout",
     "output_type": "stream",
     "text": [
      "ini\n"
     ]
    }
   ],
   "source": [
    "print(kelas[0:3])"
   ]
  },
  {
   "cell_type": "code",
   "execution_count": 20,
   "id": "48a88ca6",
   "metadata": {},
   "outputs": [
    {
     "name": "stdout",
     "output_type": "stream",
     "text": [
      "ini kelas matematik\n"
     ]
    }
   ],
   "source": [
    "print(kelas[0:-1])"
   ]
  },
  {
   "cell_type": "code",
   "execution_count": 21,
   "id": "cef65f2b",
   "metadata": {},
   "outputs": [
    {
     "name": "stdout",
     "output_type": "stream",
     "text": [
      "elas matematik\n"
     ]
    }
   ],
   "source": [
    "print(kelas[5:-1])"
   ]
  },
  {
   "cell_type": "code",
   "execution_count": 22,
   "id": "5ab9aa27",
   "metadata": {},
   "outputs": [
    {
     "name": "stdout",
     "output_type": "stream",
     "text": [
      "iesami\n"
     ]
    }
   ],
   "source": [
    "print(kelas[2:-1:3])"
   ]
  },
  {
   "cell_type": "code",
   "execution_count": 23,
   "id": "2847fab8",
   "metadata": {},
   "outputs": [
    {
     "name": "stdout",
     "output_type": "stream",
     "text": [
      "ini kelas matemat\n"
     ]
    }
   ],
   "source": [
    "print(kelas[:-3])"
   ]
  },
  {
   "cell_type": "code",
   "execution_count": 24,
   "id": "54b16081",
   "metadata": {},
   "outputs": [
    {
     "name": "stdout",
     "output_type": "stream",
     "text": [
      "ni kelas matematika\n"
     ]
    }
   ],
   "source": [
    "print(kelas[1:])"
   ]
  },
  {
   "cell_type": "code",
   "execution_count": 25,
   "id": "b2c2087a",
   "metadata": {},
   "outputs": [
    {
     "name": "stdout",
     "output_type": "stream",
     "text": [
      "ini kelas matematika\n"
     ]
    }
   ],
   "source": [
    "print(kelas[:])"
   ]
  },
  {
   "cell_type": "code",
   "execution_count": null,
   "id": "a61371be",
   "metadata": {},
   "outputs": [],
   "source": []
  },
  {
   "cell_type": "code",
   "execution_count": null,
   "id": "ea208579",
   "metadata": {},
   "outputs": [],
   "source": [
    "5.6 Strings Method"
   ]
  },
  {
   "cell_type": "code",
   "execution_count": 27,
   "id": "937f5bd2",
   "metadata": {},
   "outputs": [],
   "source": [
    "judul = 'apa itu diabetes?'"
   ]
  },
  {
   "cell_type": "code",
   "execution_count": 28,
   "id": "f9dc755b",
   "metadata": {},
   "outputs": [
    {
     "name": "stdout",
     "output_type": "stream",
     "text": [
      "17\n"
     ]
    }
   ],
   "source": [
    "print(len(judul))"
   ]
  },
  {
   "cell_type": "code",
   "execution_count": 29,
   "id": "132cf41b",
   "metadata": {},
   "outputs": [
    {
     "data": {
      "text/plain": [
       "'APA ITU DIABETES?'"
      ]
     },
     "execution_count": 29,
     "metadata": {},
     "output_type": "execute_result"
    }
   ],
   "source": [
    "judul.upper()"
   ]
  },
  {
   "cell_type": "code",
   "execution_count": 30,
   "id": "3740fde2",
   "metadata": {},
   "outputs": [
    {
     "data": {
      "text/plain": [
       "'apa itu diabetes?'"
      ]
     },
     "execution_count": 30,
     "metadata": {},
     "output_type": "execute_result"
    }
   ],
   "source": [
    "judul.lower()"
   ]
  },
  {
   "cell_type": "code",
   "execution_count": 31,
   "id": "ab32d7b1",
   "metadata": {},
   "outputs": [
    {
     "data": {
      "text/plain": [
       "4"
      ]
     },
     "execution_count": 31,
     "metadata": {},
     "output_type": "execute_result"
    }
   ],
   "source": [
    "judul.find('itu')"
   ]
  },
  {
   "cell_type": "code",
   "execution_count": 32,
   "id": "1a6caba1",
   "metadata": {},
   "outputs": [
    {
     "data": {
      "text/plain": [
       "0"
      ]
     },
     "execution_count": 32,
     "metadata": {},
     "output_type": "execute_result"
    }
   ],
   "source": [
    "judul.find('apa')"
   ]
  },
  {
   "cell_type": "code",
   "execution_count": 33,
   "id": "edc90682",
   "metadata": {},
   "outputs": [
    {
     "data": {
      "text/plain": [
       "'bagaimana itu diabetes?'"
      ]
     },
     "execution_count": 33,
     "metadata": {},
     "output_type": "execute_result"
    }
   ],
   "source": [
    "judul.replace('apa', 'bagaimana')"
   ]
  },
  {
   "cell_type": "code",
   "execution_count": 34,
   "id": "a4ca9239",
   "metadata": {},
   "outputs": [
    {
     "data": {
      "text/plain": [
       "'apa itu diabetes?'"
      ]
     },
     "execution_count": 34,
     "metadata": {},
     "output_type": "execute_result"
    }
   ],
   "source": [
    "judul.replace('Apa', 'bagaimana')"
   ]
  },
  {
   "cell_type": "code",
   "execution_count": 35,
   "id": "069f5b90",
   "metadata": {},
   "outputs": [
    {
     "name": "stdout",
     "output_type": "stream",
     "text": [
      "True\n"
     ]
    }
   ],
   "source": [
    "print('apa'in judul)"
   ]
  },
  {
   "cell_type": "code",
   "execution_count": 36,
   "id": "4bddfc06",
   "metadata": {},
   "outputs": [
    {
     "name": "stdout",
     "output_type": "stream",
     "text": [
      "False\n"
     ]
    }
   ],
   "source": [
    "print('Apa' in judul)"
   ]
  },
  {
   "cell_type": "code",
   "execution_count": null,
   "id": "bcfaac6d",
   "metadata": {},
   "outputs": [],
   "source": []
  },
  {
   "cell_type": "code",
   "execution_count": null,
   "id": "5afbedef",
   "metadata": {},
   "outputs": [],
   "source": [
    "5.7 Operasi Matematika di Python"
   ]
  },
  {
   "cell_type": "code",
   "execution_count": 37,
   "id": "391cbcb6",
   "metadata": {},
   "outputs": [
    {
     "name": "stdout",
     "output_type": "stream",
     "text": [
      "9\n",
      "-1\n",
      "20\n",
      "0.8333333333333334\n",
      "0\n",
      "5\n",
      "1024\n",
      "8\n",
      "4\n",
      "20\n"
     ]
    }
   ],
   "source": [
    "print(4+5)\n",
    "print(4-5)\n",
    "print(4*5)\n",
    "print(5/6)\n",
    "print(5//6)\n",
    "print(5%6)\n",
    "print(4**5)\n",
    "x=5\n",
    "x+=3\n",
    "print(x)\n",
    "x-=4\n",
    "print(x)\n",
    "x*=5\n",
    "print(x)"
   ]
  },
  {
   "cell_type": "code",
   "execution_count": null,
   "id": "19849a49",
   "metadata": {},
   "outputs": [],
   "source": []
  },
  {
   "cell_type": "code",
   "execution_count": null,
   "id": "fff4d82c",
   "metadata": {},
   "outputs": [],
   "source": [
    "5.8 Operasi Perbandingan di Python"
   ]
  },
  {
   "cell_type": "code",
   "execution_count": 38,
   "id": "b55c2a69",
   "metadata": {},
   "outputs": [
    {
     "name": "stdout",
     "output_type": "stream",
     "text": [
      "True\n",
      "True\n",
      "True\n",
      "True\n",
      "True\n",
      "True\n"
     ]
    }
   ],
   "source": [
    "x = 5>4\n",
    "print(x)\n",
    "x = 4<5\n",
    "print(x)\n",
    "x = 5 >= 4\n",
    "print(x)\n",
    "x = 4 <= 5\n",
    "print(x)\n",
    "x = 5 == 5\n",
    "print(x)\n",
    "x = 5 != 6\n",
    "print(x)"
   ]
  },
  {
   "cell_type": "code",
   "execution_count": null,
   "id": "52d4580d",
   "metadata": {},
   "outputs": [],
   "source": []
  },
  {
   "cell_type": "code",
   "execution_count": null,
   "id": "bd299e55",
   "metadata": {},
   "outputs": [],
   "source": [
    "5.9 Operator Logika di Python"
   ]
  },
  {
   "cell_type": "code",
   "execution_count": 39,
   "id": "562eecb4",
   "metadata": {},
   "outputs": [
    {
     "name": "stdout",
     "output_type": "stream",
     "text": [
      "True\n"
     ]
    }
   ],
   "source": [
    "buah_sirsak = 5\n",
    "buah_kedondong = 10\n",
    "print(buah_sirsak > 4 and buah_kedondong < 11)"
   ]
  },
  {
   "cell_type": "code",
   "execution_count": 40,
   "id": "ef350e97",
   "metadata": {},
   "outputs": [
    {
     "name": "stdout",
     "output_type": "stream",
     "text": [
      "True\n"
     ]
    }
   ],
   "source": [
    "print(buah_sirsak < 4 or buah_kedondong < 11)"
   ]
  },
  {
   "cell_type": "code",
   "execution_count": 41,
   "id": "4ac7e945",
   "metadata": {},
   "outputs": [
    {
     "name": "stdout",
     "output_type": "stream",
     "text": [
      "False\n"
     ]
    }
   ],
   "source": [
    "print(buah_sirsak < 4 or buah_kedondong > 11)"
   ]
  },
  {
   "cell_type": "code",
   "execution_count": 42,
   "id": "fb77ce66",
   "metadata": {},
   "outputs": [
    {
     "name": "stdout",
     "output_type": "stream",
     "text": [
      "True\n"
     ]
    }
   ],
   "source": [
    "print(not(buah_sirsak < 4 or buah_kedondong > 11))"
   ]
  },
  {
   "cell_type": "code",
   "execution_count": null,
   "id": "7c7a7914",
   "metadata": {},
   "outputs": [],
   "source": []
  },
  {
   "cell_type": "code",
   "execution_count": null,
   "id": "a2b58d99",
   "metadata": {},
   "outputs": [],
   "source": [
    "5.10 Operation if di Python"
   ]
  },
  {
   "cell_type": "code",
   "execution_count": 43,
   "id": "7977e85d",
   "metadata": {},
   "outputs": [
    {
     "name": "stdout",
     "output_type": "stream",
     "text": [
      "nilai kamu adalah 70\n",
      "kamu mendapatkan nilai B\n",
      "keep the spirit, improve your performance again\n"
     ]
    }
   ],
   "source": [
    "nilai = float(input('nilai kamu adalah '))\n",
    "if nilai >=90 :\n",
    "    print('kamu mendapat nilai A')\n",
    "    print('nice work, congrats!!')\n",
    "if nilai <80 and nilai >=70 :\n",
    "    print('kamu mendapatkan nilai B')\n",
    "    print('keep the spirit, improve your performance again')\n",
    "if nilai >=60 and nilai <70 :\n",
    "    print('kamu mendapatkan nilai C')\n",
    "    print('next time should be better')\n",
    "if nilai >=50 and nilai <60 :\n",
    "    print('kamu mendapatkan nilai D')\n",
    "    print('try again next year')\n",
    "if nilai <50 :\n",
    "    print('kamu mendapatkan nilai E')\n",
    "    print('see you next year')"
   ]
  },
  {
   "cell_type": "code",
   "execution_count": null,
   "id": "edccdfb6",
   "metadata": {},
   "outputs": [],
   "source": [
    "Buatlah Program yang merubah tinggi badan seseorang \n",
    "dari cm ke inci atau sebaliknya dari inci ke cm."
   ]
  },
  {
   "cell_type": "code",
   "execution_count": 44,
   "id": "68a284a0",
   "metadata": {},
   "outputs": [
    {
     "name": "stdout",
     "output_type": "stream",
     "text": [
      "berapakah tinggi kamu? 166\n",
      "tingginya dalam cm atau inci? cm\n",
      "tinggi kamu adalah 65.354366 inci\n"
     ]
    }
   ],
   "source": [
    "tinggi = float(input('berapakah tinggi kamu? '))\n",
    "cm_atau_inci = input('tingginya dalam cm atau inci? ')\n",
    "\n",
    "if cm_atau_inci.upper() == 'CM':\n",
    "    tinggi = tinggi*0.393701\n",
    "    print('tinggi kamu adalah ' + str(tinggi) + ' inci')\n",
    "elif cm_atau_inci.upper() == 'INCI':\n",
    "    tinggi = tinggi*0.393701\n",
    "    print(f'tinggi kamu adalah {tinggi} cm')"
   ]
  },
  {
   "cell_type": "code",
   "execution_count": null,
   "id": "53f8f682",
   "metadata": {},
   "outputs": [],
   "source": []
  },
  {
   "cell_type": "code",
   "execution_count": null,
   "id": "a4304fe3",
   "metadata": {},
   "outputs": [],
   "source": [
    "5.11 While loop"
   ]
  },
  {
   "cell_type": "code",
   "execution_count": 45,
   "id": "ce05624e",
   "metadata": {},
   "outputs": [
    {
     "name": "stdout",
     "output_type": "stream",
     "text": [
      "angka 2 masih dibawah 4\n"
     ]
    }
   ],
   "source": [
    "a = 2\n",
    "while a < 4:\n",
    "    print('angka ' + str(a) + ' masih dibawah 4')\n",
    "    a +=2"
   ]
  },
  {
   "cell_type": "code",
   "execution_count": 46,
   "id": "62d91af2",
   "metadata": {},
   "outputs": [
    {
     "name": "stdout",
     "output_type": "stream",
     "text": [
      "\n",
      "*\n",
      "**\n",
      "***\n"
     ]
    }
   ],
   "source": [
    "a = 0\n",
    "while a < 4:\n",
    "    print(a * '*')\n",
    "    a +=1"
   ]
  },
  {
   "cell_type": "code",
   "execution_count": null,
   "id": "0a211a3e",
   "metadata": {},
   "outputs": [],
   "source": []
  }
 ],
 "metadata": {
  "kernelspec": {
   "display_name": "Python 3 (ipykernel)",
   "language": "python",
   "name": "python3"
  },
  "language_info": {
   "codemirror_mode": {
    "name": "ipython",
    "version": 3
   },
   "file_extension": ".py",
   "mimetype": "text/x-python",
   "name": "python",
   "nbconvert_exporter": "python",
   "pygments_lexer": "ipython3",
   "version": "3.9.7"
  }
 },
 "nbformat": 4,
 "nbformat_minor": 5
}
